{
 "cells": [
  {
   "cell_type": "markdown",
   "metadata": {},
   "source": [
    "# Stock prediction\n",
    "Quantitative analysis of *certain variables* and their correlation with stock price behaviour. This used to be hard, but now with powerful tools and libraries like tensorflow it is much simpler.\n",
    "\n",
    "In the 1980's two British statisticians, Box and Jenkins, created a mainframe program to attempt to predict stock prices from just two data points, price and volume. It was known as Autoregressive Integrated Moving Average (ARIMA).\n",
    "\n",
    "The Box-Jenkins approach claims that non-stationary data can be made stationary by differencing the series, Y<sub>t</sub> :\n",
    "\n",
    "Y<sub>t</sub> = &Phi;<sub>1</sub>Y<sub>t-1</sub>+&Phi;<sub>2</sub>Y<sub>t-2</sub>...&Phi;<sub>&rho;</sub>Y<sub>t-&rho;</sub>+&epsilon;<sub>t</sub>+&theta;<sub>1</sub>&epsilon;<sub>t-1</sub>+&theta;<sub>2</sub>&epsilon;<sub>t-2</sub>+...&theta;<sub>q</sub>&epsilon;<sub>t-q</sub>\n",
    "\n",
    "The ARIMA model combines three basic methods:\n",
    "\n",
    "1. *AutoRegression (AR)* – Auto-regression, the values of a given time series data are regressed on their own lagged values, which is indicated by the “p” value in the model.\n",
    "2. *Differencing (I-for Integrated)* – Conversion of a non-stationary time series to a stationary one to remove time trends. This is indicated by the “d” value in the model. If d = 1, it looks at the difference between two time series entries, if d = 2 it looks at the differences of the differences obtained at d =1, and so forth.\n",
    "3. *Moving Average (MA)* – The moving average nature of the model is represented by the “q” value which is the number of lagged values of the error term.\n",
    "\n",
    "\n",
    "## A modern approach using artificial intelligence (AI)\n",
    "The code below uses Keras, an API used to simplify prototyping on top of AI frameworks like Google's Tensorflow. Google Tensorflow has its own flavour of Keras, which I use below with Python 3.6 to build a deep learning model.\n",
    "\n",
    "The very simple approach below uses only a single data point, the *closing price* with a deep neural network of only 2 layers using time sequence analysis recurrent networks variant LSTMs.\n",
    "\n",
    "### Data set\n",
    "Our data is from the daily closing prices from S&P 500 from Jan 2000 to Aug 2016. The series is index in time order.\n",
    "\n",
    "### Goal\n",
    "Our goal is to predict the closing price for any given date."
   ]
  },
  {
   "cell_type": "code",
   "execution_count": 1,
   "metadata": {
    "collapsed": true
   },
   "outputs": [],
   "source": [
    "import tensorflow as tf\n",
    "import time #helper libraries\n",
    "import math\n",
    "import numpy as np\n",
    "import matplotlib.pyplot as plt "
   ]
  },
  {
   "cell_type": "code",
   "execution_count": 2,
   "metadata": {},
   "outputs": [
    {
     "name": "stdout",
     "output_type": "stream",
     "text": [
      "b'Hello, TensorFlow! Did you install?'\n"
     ]
    }
   ],
   "source": [
    "#is tensorflow installed correctly?\n",
    "hello = tf.constant('Hello, TensorFlow! Did you install?')\n",
    "sess = tf.Session()\n",
    "print(sess.run(hello))"
   ]
  },
  {
   "cell_type": "code",
   "execution_count": 3,
   "metadata": {
    "collapsed": true
   },
   "outputs": [],
   "source": [
    "#use Keras from tensorflow, a slightly modifiedx version\n",
    "from tensorflow import keras\n",
    "from tensorflow.keras import Sequential\n",
    "from tensorflow.keras.layers import Embedding, LSTM, Dense, Dropout, Activation\n",
    "from numpy import newaxis"
   ]
  },
  {
   "cell_type": "markdown",
   "metadata": {},
   "source": [
    "## 1. Load Data\n",
    "Load in the data and then normalise.\n",
    "Splits the data into:\n",
    "* train\n",
    "* validate\n",
    "* test\n",
    "\n",
    "### Normalise the data\n",
    "Normalising data improves convergence. To [normalize the data](https://en.wikipedia.org/wiki/Normalization_(statistics)) we use the following equation to adjust the values measured on different scales to a *notionally* common scale:\n",
    "\n",
    "*n<sub>i</sub> = (P<sub>i</sub> / P<sub>O</sub>) -* 1\n",
    "\n",
    "The final step in training the Keras LSTM model is to call the [fit_generator](https://www.tensorflow.org/api_docs/python/tf/keras/Model#fit) function. \n",
    "\n",
    "When training neural networks, the data is generally fed in small batches, called mini-batches or just “batches”.\n",
    "\n",
    "Keras has some handy functions to extract training data automatically from a predefined Python iterator object, one is called *fit_generator*. Its first argument is the *iterator* function we need to define to extract batches of data during the training process.\n",
    "\n",
    "This function in Keras will handle all of the data extraction, input into the model, executing gradient steps, logging metrics such as accuracy and executing callbacks (these will be discussed later).\n",
    "\n",
    "The funtion should be similiar to the following format:\n",
    "\n",
    "```\n",
    "while True:\n",
    "    #do some things to create a batch of data (x, y)\n",
    "    yield x, y\n",
    "```\n",
    "\n",
    "Ours is:\n",
    "> normalised_window = [((float(p) / float(window[0])) - 1) for p in window]\n"
   ]
  },
  {
   "cell_type": "code",
   "execution_count": 4,
   "metadata": {
    "collapsed": true
   },
   "outputs": [],
   "source": [
    "#normalise the data\n",
    "\n",
    "def normalise_windows(window_data):\n",
    "    normalised_data = []\n",
    "    for window in window_data:\n",
    "        normalised_window = [((float(p) / float(window[0])) - 1) for p in window]\n",
    "        normalised_data.append(normalised_window)\n",
    "    return normalised_data"
   ]
  },
  {
   "cell_type": "markdown",
   "metadata": {},
   "source": [
    "### Reshape the data\n",
    "While performing machine learning the data needs to be split into 3 parts:\n",
    "\n",
    "1. *Training set* - to train the model and prepare the weights in the model.\n",
    "2. *Test* - to estimate how well the model has been trained and estimate model properties (mean error for numeric predictors, classification errors for classifiers, recall and precision for IR-models etc.)\n",
    "3. *Validation/Application* - a seperated clean set (removing bias from training and testing) "
   ]
  },
  {
   "cell_type": "code",
   "execution_count": 5,
   "metadata": {
    "collapsed": true
   },
   "outputs": [],
   "source": [
    "# load the data, split and normalize\n",
    "def load_data(filename, seq_len, normalise_window):\n",
    "    f = open(filename, 'r').read()\n",
    "    data = f.split('\\n')\n",
    "\n",
    "    sequence_length = seq_len + 1\n",
    "    result = []\n",
    "    for index in range(len(data) - sequence_length):\n",
    "        result.append(data[index: index + sequence_length])\n",
    "    \n",
    "    if normalise_window:\n",
    "        result = normalise_windows(result)\n",
    "\n",
    "    result = np.array(result)\n",
    "\n",
    "    row = round(0.9 * result.shape[0])\n",
    "    train = result[:int(row), :]\n",
    "    np.random.shuffle(train)\n",
    "    x_train = train[:, :-1]\n",
    "    y_train = train[:, -1]\n",
    "    x_test = result[int(row):, :-1]\n",
    "    y_test = result[int(row):, -1]\n",
    "\n",
    "    x_train = np.reshape(x_train, (x_train.shape[0], x_train.shape[1], 1))\n",
    "    x_test = np.reshape(x_test, (x_test.shape[0], x_test.shape[1], 1))  \n",
    "\n",
    "    return [x_train, y_train, x_test, y_test]\n",
    "\n",
    "X_train, y_train, X_test, y_test = load_data('sp500.csv', 50, True)"
   ]
  },
  {
   "cell_type": "markdown",
   "metadata": {},
   "source": [
    "## 2. Build the model\n",
    "### model\n",
    "Models in Keras come in 2 forms - Sequential and Functional. \n",
    "Sequential allows layers to be stacked in order of input to output. \n",
    "The functional API allows for more complex architectures."
   ]
  },
  {
   "cell_type": "code",
   "execution_count": 6,
   "metadata": {
    "collapsed": true
   },
   "outputs": [],
   "source": [
    "#The first line declares the model type as Sequential().\n",
    "model = Sequential()"
   ]
  },
  {
   "cell_type": "code",
   "execution_count": 8,
   "metadata": {
    "collapsed": true
   },
   "outputs": [],
   "source": [
    "# Model parameters\n",
    "hidden_size = 50\n",
    "dropout_rate = 0.2"
   ]
  },
  {
   "cell_type": "markdown",
   "metadata": {},
   "source": [
    "### LSTM\n",
    "Long short term memory (LSTM), they solve the vanishing gradient issue, allowing a network to keep the impact of weights to learn long-term dependencies. A LSTM network is a recurrent neural network. A recurrent neural network is a neural network that models time or sequence dependent behaviour – such as language, stock prices, electricity demand and so on. This is performed by feeding back the output of a neural network layer at time t to the input of the same network layer at time t + 1. So there is some influence from what went before.\n",
    "\n",
    "We match this to the size of the embedding layer."
   ]
  },
  {
   "cell_type": "code",
   "execution_count": 9,
   "metadata": {
    "collapsed": true
   },
   "outputs": [],
   "source": [
    "# hidden layer 1\n",
    "hidden_size = 50 # Positive integer, dimensionality of the output space.\n",
    "model.add(LSTM(hidden_size, return_sequences=True))\n",
    "\n",
    "model.add(Dropout(dropout_rate))"
   ]
  },
  {
   "cell_type": "code",
   "execution_count": 10,
   "metadata": {
    "collapsed": true
   },
   "outputs": [],
   "source": [
    "# hidden layer 2\n",
    "hidden_size = 100 # Positive integer, dimensionality of the output space.\n",
    "model.add(LSTM(hidden_size, return_sequences=False))\n",
    "\n",
    "model.add(Dropout(dropout_rate))"
   ]
  },
  {
   "cell_type": "code",
   "execution_count": 11,
   "metadata": {
    "collapsed": true
   },
   "outputs": [],
   "source": [
    "# output an array of dimension 1\n",
    "# https://www.tensorflow.org/api_docs/python/tf/keras/layers/Dense\n",
    "model.add(Dense(1))"
   ]
  },
  {
   "cell_type": "code",
   "execution_count": 12,
   "metadata": {
    "collapsed": true
   },
   "outputs": [],
   "source": [
    "# The name of the activation finction to use\n",
    "model.add(Activation('linear'))"
   ]
  },
  {
   "cell_type": "markdown",
   "metadata": {},
   "source": [
    "Run the compile command on the constructed model.\n",
    "\n",
    "* *mse* - mean squared error, an estimator that measures the average squared difference between the estimated values and what is estimated.\n",
    "* *rmsprop* - Adaptive gradient descent algorithms like Adagrad and RMSprop provide and an alternative to Stochastic gradient descent (SGD), which is useful with sparse data. RMSprop adjusts the Adagrad method in a very simple way in an attempt to reduce its aggressive, monotonically decreasing learning rate. \n",
    "> keras.optimizers.RMSprop(lr=0.001, rho=0.9, epsilon=1e-08, decay=0.0)\n",
    "* ‘categorical_accuracy’, which can let us see how the accuracy is improving during training.\n"
   ]
  },
  {
   "cell_type": "code",
   "execution_count": 13,
   "metadata": {},
   "outputs": [
    {
     "name": "stdout",
     "output_type": "stream",
     "text": [
      "compilation time :  0.011169910430908203\n"
     ]
    }
   ],
   "source": [
    "start = time.time()\n",
    "model.compile(loss='mse', optimizer='rmsprop', metrics=['categorical_accuracy'])\n",
    "print ('compilation time : ', time.time() - start)"
   ]
  },
  {
   "cell_type": "markdown",
   "metadata": {},
   "source": [
    "## Checkpoint\n",
    "Create a checkpoint using a Keras *callback*, these functions can *optionally be called at the end of a training epoch.\n",
    "\n",
    "This callback saves the model after each epoch, useful for running long-term training.\n",
    "\n",
    "*Note* that the model checkpoint function can include the epoch in its naming of the model, which is good for keeping track of things."
   ]
  },
  {
   "cell_type": "code",
   "execution_count": 14,
   "metadata": {
    "collapsed": true
   },
   "outputs": [],
   "source": [
    "data_path = \"/Users/Dom/projects/stocks\"\n",
    "checkpointer = keras.callbacks.ModelCheckpoint(filepath=data_path + '/model-{epoch:02d}.hdf5', verbose=1)"
   ]
  },
  {
   "cell_type": "markdown",
   "metadata": {},
   "source": [
    "## 3. Train the model\n",
    "Use the data loaded to train the model."
   ]
  },
  {
   "cell_type": "code",
   "execution_count": 15,
   "metadata": {},
   "outputs": [
    {
     "name": "stdout",
     "output_type": "stream",
     "text": [
      "Train on 3523 samples, validate on 186 samples\n",
      "Epoch 1/2\n",
      "3523/3523 [==============================] - 4s 1ms/step - loss: 0.0029 - categorical_accuracy: 1.0000 - val_loss: 0.0015 - val_categorical_accuracy: 1.0000\n",
      "Epoch 2/2\n",
      "3523/3523 [==============================] - 2s 560us/step - loss: 6.9042e-04 - categorical_accuracy: 1.0000 - val_loss: 7.3100e-04 - val_categorical_accuracy: 1.0000\n"
     ]
    },
    {
     "data": {
      "text/plain": [
       "<tensorflow.python.keras.callbacks.History at 0xb28e26780>"
      ]
     },
     "execution_count": 15,
     "metadata": {},
     "output_type": "execute_result"
    }
   ],
   "source": [
    "model.fit(\n",
    "    X_train,\n",
    "    y_train,\n",
    "    batch_size=512,\n",
    "    epochs=2,\n",
    "    validation_split=0.05)"
   ]
  },
  {
   "cell_type": "code",
   "execution_count": 16,
   "metadata": {},
   "outputs": [
    {
     "name": "stdout",
     "output_type": "stream",
     "text": [
      "412/412 [==============================] - 0s 738us/step\n"
     ]
    },
    {
     "data": {
      "text/plain": [
       "[0.0003815509203156836, 1.0]"
      ]
     },
     "execution_count": 16,
     "metadata": {},
     "output_type": "execute_result"
    }
   ],
   "source": [
    "model.evaluate(X_test, y_test)"
   ]
  },
  {
   "cell_type": "markdown",
   "metadata": {},
   "source": [
    "## Step 4 - Predict\n",
    "Predict sequence of 50 steps before shifting prediction run forward by 50 steps"
   ]
  },
  {
   "cell_type": "code",
   "execution_count": 17,
   "metadata": {
    "collapsed": true
   },
   "outputs": [],
   "source": [
    "def predict_sequences_multiple(model, data, window_size, prediction_len):\n",
    "    prediction_seqs = []\n",
    "    for i in range(int(math.floor(len(data)/prediction_len))):\n",
    "        curr_frame = data[i*prediction_len]\n",
    "        predicted = []\n",
    "        for j in range(prediction_len):\n",
    "            predicted.append(model.predict(curr_frame[newaxis,:,:])[0,0])\n",
    "            curr_frame = curr_frame[1:]\n",
    "            curr_frame = np.insert(curr_frame, [window_size-1], predicted[-1], axis=0)\n",
    "        prediction_seqs.append(predicted)\n",
    "    return prediction_seqs\n",
    "\n",
    "predictions = predict_sequences_multiple(model, X_test, 50, 50)"
   ]
  },
  {
   "cell_type": "markdown",
   "metadata": {},
   "source": [
    "## Step 5 - Plot the predictions!\n"
   ]
  },
  {
   "cell_type": "code",
   "execution_count": 18,
   "metadata": {},
   "outputs": [
    {
     "data": {
      "image/png": "[encoded data removed]",
      "text/plain": [
       "<Figure size 432x288 with 1 Axes>"
      ]
     },
     "metadata": {},
     "output_type": "display_data"
    }
   ],
   "source": [
    "def plot_results_multiple(predicted_data, true_data, prediction_len):\n",
    "    fig = plt.figure(facecolor='white')\n",
    "    ax = fig.add_subplot(111)\n",
    "    ax.plot(true_data, label='True Data')\n",
    "\n",
    "    #Pad the list of predictions to shift it in the graph to it's correct start\n",
    "    for i, data in enumerate(predicted_data):\n",
    "        padding = [None for p in range(i * prediction_len)]\n",
    "        plt.plot(padding + data, label='Prediction')\n",
    "        plt.legend()\n",
    "    plt.show()\n",
    "\n",
    "plot_results_multiple(predictions, y_test, 50)"
   ]
  },
  {
   "cell_type": "markdown",
   "metadata": {},
   "source": [
    "## Resources\n",
    "*  [Understanding LSTM](http://colah.github.io/posts/2015-08-Understanding-LSTMs/)\n",
    "*  [Analysis](http://deeplearning.net/tutorial/lstm.html)\n",
    "*  [Eclipse Deeplearning4j](https://deeplearning4j.org/)\n",
    "*  [Recurrent rnn](https://www.tensorflow.org/tutorials/sequences/recurrent)\n",
    "*  [Time series prediction on Keras on Tensorflow](https://machinelearningmastery.com/time-series-prediction-lstm-recurrent-neural-networks-python-keras/)\n",
    "*  [Evaluate performance](https://machinelearningmastery.com/evaluate-performance-deep-learning-models-keras/)\n"
   ]
  },
  {
   "cell_type": "code",
   "execution_count": null,
   "metadata": {
    "collapsed": true
   },
   "outputs": [],
   "source": []
  }
 ],
 "metadata": {
  "kernelspec": {
   "display_name": "Python 3",
   "language": "python",
   "name": "python3"
  },
  "language_info": {
   "codemirror_mode": {
    "name": "ipython",
    "version": 3
   },
   "file_extension": ".py",
   "mimetype": "text/x-python",
   "name": "python",
   "nbconvert_exporter": "python",
   "pygments_lexer": "ipython3",
   "version": "3.6.1"
  }
 },
 "nbformat": 4,
 "nbformat_minor": 2
}
